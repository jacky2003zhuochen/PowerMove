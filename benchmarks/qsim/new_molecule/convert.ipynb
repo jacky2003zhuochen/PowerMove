{
 "cells": [
  {
   "cell_type": "code",
   "execution_count": 16,
   "metadata": {},
   "outputs": [],
   "source": [
    "name_list=[\"beh2_bk\",\"beh2_jw\",\"ch4_bk\",\"ch4_jw\",\"h2o_bk\",\"h2o_jw\",\"lih_bk\",\"lih_jw\",\"ch4new_bk\",\"ch4new_jw\",\"h2_bk\",\"h2_jw\"]\n",
    "for name in name_list:\n",
    "    with open(f\"vqe/{name}/{name}.txt\",\"r\") as f:\n",
    "        beh2_bk = f.readlines()\n",
    "    n_qubit=int(beh2_bk[0].split()[-1])\n",
    "    result=[]\n",
    "    for line in beh2_bk[1:]:\n",
    "        str_list = line.split()[1:]\n",
    "        result.append(\"\")\n",
    "        for i in range(n_qubit):\n",
    "            result[-1]+=str_list[i][0]\n",
    "    with open(f\"string/{name}.txt\",\"w\") as f:\n",
    "        f.write(str(result))"
   ]
  }
 ],
 "metadata": {
  "kernelspec": {
   "display_name": "fpqa",
   "language": "python",
   "name": "python3"
  },
  "language_info": {
   "codemirror_mode": {
    "name": "ipython",
    "version": 3
   },
   "file_extension": ".py",
   "mimetype": "text/x-python",
   "name": "python",
   "nbconvert_exporter": "python",
   "pygments_lexer": "ipython3",
   "version": "3.11.4"
  },
  "orig_nbformat": 4
 },
 "nbformat": 4,
 "nbformat_minor": 2
}
